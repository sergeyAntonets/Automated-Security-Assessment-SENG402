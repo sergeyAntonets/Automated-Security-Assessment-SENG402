{
 "cells": [
  {
   "cell_type": "markdown",
   "id": "33d6f286",
   "metadata": {},
   "source": [
    "## Start with only two devices ##\n",
    "Using https://github.com/mmge88/automated-security-assessment/ as a base\n",
    "\n",
    "Device 1: Windows PC running __Windows 10 21H2__\n",
    "Device 2: Linux Server sunning __Linux 22.04__"
   ]
  }
 ],
 "metadata": {
  "language_info": {
   "name": "python"
  }
 },
 "nbformat": 4,
 "nbformat_minor": 5
}
