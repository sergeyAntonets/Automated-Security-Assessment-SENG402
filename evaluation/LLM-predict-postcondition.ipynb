{
 "cells": [
  {
   "cell_type": "markdown",
   "id": "c4af50b0",
   "metadata": {},
   "source": [
    "## Imports ##"
   ]
  },
  {
   "cell_type": "code",
   "execution_count": 1,
   "id": "e2783da2",
   "metadata": {},
   "outputs": [
    {
     "name": "stderr",
     "output_type": "stream",
     "text": [
      "llama_context: n_ctx_per_seq (8192) < n_ctx_train (131072) -- the full capacity of the model will not be utilized\n",
      "llama_kv_cache_unified: LLAMA_SET_ROWS=0, using old ggml_cpy() method for backwards compatibility\n",
      "llama_kv_cache_unified: LLAMA_SET_ROWS=0, using old ggml_cpy() method for backwards compatibility\n"
     ]
    }
   ],
   "source": [
    "# from runningLLAMA import llama_local_generate\n",
    "from runningBaronLLM import baron_local_generate\n",
    "import pandas as pd\n",
    "import re\n",
    "import time\n",
    "import os"
   ]
  },
  {
   "cell_type": "markdown",
   "id": "dda94d8f",
   "metadata": {},
   "source": [
    "## Prepare the prompts ##"
   ]
  },
  {
   "cell_type": "code",
   "execution_count": 2,
   "id": "aeb8be4a",
   "metadata": {},
   "outputs": [],
   "source": [
    "sys_prompt = \"\"\"\n",
    "    You are a cybersecurity vulnerability classification expert. Your task is to\n",
    "    determine the post-condition privilege level after successful exploitation.\n",
    "\n",
    "    POST-CONDITION PRIVILEGE LEVEL DEFINITIONS: - None: Attacker does not gain\n",
    "    access to the system. No execution privileges are obtained.  - User:\n",
    "    Attacker gains user-level access (e.g., running code as a normal user,\n",
    "    accessing user files, limited privileges).  - Root: Attacker gains full\n",
    "    system or administrative access (e.g., root privileges, complete control\n",
    "    over the system or application, administrator rights).\n",
    "\n",
    "    CLASSIFICATION INSTRUCTIONS: 1. Analyze both the CVE description and CVSS\n",
    "    vector 2. Provide a brief justification 3. End your\n",
    "    response with: ##POSTCONDITION [classification] 4. The classification must\n",
    "    be EXACTLY one of: None, User, Root\n",
    "    \"\"\""
   ]
  },
  {
   "cell_type": "code",
   "execution_count": 3,
   "id": "5cadc2fe",
   "metadata": {},
   "outputs": [],
   "source": [
    "prompt = \"\"\"\n",
    "    Classify the vulnerability post-condition privilege as one of the following:\n",
    "    - None: Attacker does not gain access to the system.  - User: Attacker gains\n",
    "    user-level access (e.g., running code as a normal user, accessing user\n",
    "    files).  - Root: Attacker gains full system or administrative access (e.g.,\n",
    "    root privileges, complete control over the system or application).\n",
    "\n",
    "    \n",
    "    Vulnerability: {description}\n",
    "    CVSS Vector: {cvss}\n",
    "    \n",
    "    Examples: Example 1: Vulnerability: XSS vulnerability allows stealing user\n",
    "    session cookies.  CVSS Vector: CVSS:3.1/AV:N/AC:L/PR:N/UI:R/S:C/C:L/I:L/A:N\n",
    "    Classification: User Justification: Attacker gains access to user session\n",
    "    data but not system control.\n",
    "\n",
    "    Example 2: Vulnerability: SQL injection allows database manipulation.  CVSS\n",
    "    Vector: CVSS:3.1/AV:N/AC:L/PR:H/UI:N/S:U/C:H/I:H/A:H Classification: User\n",
    "    Justification: Attacker gains database access but not full system control.\n",
    "\n",
    "    Now classify the given vulnerability: Justification: [Your justification]\n",
    "    ##POSTCONDITION [Your classification: None, User, or Root]\n",
    "    \"\"\""
   ]
  },
  {
   "cell_type": "code",
   "execution_count": 4,
   "id": "407d6eb4",
   "metadata": {},
   "outputs": [],
   "source": [
    "temperature = 0.3\n",
    "top_p = 0.9     \n",
    "seed = 42\n",
    "max_tokens = 256   "
   ]
  },
  {
   "cell_type": "markdown",
   "id": "73636c19",
   "metadata": {},
   "source": [
    "## Prompt the LLM ##"
   ]
  },
  {
   "cell_type": "code",
   "execution_count": 5,
   "id": "29f860d0",
   "metadata": {},
   "outputs": [],
   "source": [
    "def format_post_condition(text):\n",
    "    \"\"\"\n",
    "    Extract post-condition privilege classification from LLM response text.\n",
    "    Returns the last valid classification found and whether extraction was successful.\n",
    "    \"\"\"\n",
    "    # Define the regex pattern for matching privilege classification\n",
    "    privilege_pattern = r'^(None|User|Root)[.:\\s]*$'\n",
    "    \n",
    "    # Split the text into lines (from bottom up) and search for a matching line\n",
    "    lines = text.strip().splitlines()\n",
    "    for line in reversed(lines):\n",
    "        line = line.strip()\n",
    "        if re.match(privilege_pattern, line):\n",
    "            # Extract just the classification word\n",
    "            match = re.match(r'^(None|User|Root)', line)\n",
    "            if match:\n",
    "                return match.group(1), True\n",
    "    \n",
    "    # If no exact match found, look for the classification word anywhere in the text\n",
    "    text_reversed = text[::-1]\n",
    "    for word in [\"tooR\", \"resU\", \"enoN\"]:  # Reversed words\n",
    "        if word in text_reversed:\n",
    "            pos = text_reversed.find(word)\n",
    "            return word[::-1], True  # Reverse back to original\n",
    "    \n",
    "    # If still not found, return the entire text and mark as failed\n",
    "    return text, False"
   ]
  },
  {
   "cell_type": "code",
   "execution_count": 6,
   "id": "10708ef2",
   "metadata": {},
   "outputs": [],
   "source": [
    "def run_evaluation(file_path):\n",
    "    \"\"\"\n",
    "    Run CVSS prediction evaluation on a dataset using specified model.\n",
    "    Processes each CVE description, extracts CVSS vectors, and saves results.\n",
    "    \"\"\"\n",
    "    start_time = time.time()\n",
    "    count_chars = 0\n",
    "    instructions_failed = 0\n",
    "    \n",
    "    data = pd.read_csv(file_path, encoding='utf-8', sep='\\t')\n",
    "    all_results = []\n",
    "    all_full_responses = []\n",
    "    \n",
    "    for index, row in data.iterrows():\n",
    "        # Format the prompt with the specific vulnerability data using format()\n",
    "        llm_prompt = prompt.format(description=row['Description'], cvss=row['CVSS'])\n",
    "        \n",
    "        try:\n",
    "            # Get prediction from the model\n",
    "            output = baron_local_generate(sys_prompt, llm_prompt, max_tokens=max_tokens, temperature=temperature, top_p=top_p, seed=seed)\n",
    "            count_chars += len(output)\n",
    "            \n",
    "            # Store the full response\n",
    "            all_full_responses.append(f\"=== CVE {index+1} ===\\n{output}\\n\")\n",
    "            \n",
    "            # Try to extract post-condition from the response\n",
    "            answer, success = format_post_condition(output)\n",
    "            if not success:\n",
    "                instructions_failed += 1\n",
    "            \n",
    "            all_results.append(answer)\n",
    "            print(index+1, answer)\n",
    "        except Exception as e:\n",
    "            answer = 'Error'\n",
    "            error_msg = f\"=== CVE {index+1} ===\\nERROR: {str(e)}\\n\"\n",
    "            all_full_responses.append(error_msg)\n",
    "            all_results.append(answer)\n",
    "            print('Exception at row ', index+1)\n",
    "            print(e)\n",
    "    \n",
    "    time_taken = time.time() - start_time\n",
    "    print('Time taken:', time_taken)\n",
    "    print('#Characters generated:', count_chars)\n",
    "    print('#Instructions failed:', instructions_failed)\n",
    "    \n",
    "    output_dir = os.path.join('responses', 'individual-results')\n",
    "    if not os.path.exists(output_dir):\n",
    "        os.makedirs(output_dir)\n",
    "    \n",
    "    out_result = os.path.join(output_dir, 'SENG402_' + os.path.basename(file_path).split('.')[0] + '_postcondition.txt')\n",
    "    with open(out_result, 'w', encoding='utf-8') as f:\n",
    "        f.write('\\n'.join(all_results))\n",
    "    \n",
    "    out_full_responses = os.path.join(output_dir, 'SENG402_' + os.path.basename(file_path).split('.')[0] + '_full_postcondition_responses.txt')\n",
    "    with open(out_full_responses, 'w', encoding='utf-8') as f:\n",
    "        f.write('\\n'.join(all_full_responses))\n",
    "    \n",
    "    print(f'Results saved to: {out_result}')\n",
    "    print(f'Full responses saved to: {out_full_responses}')\n",
    "    print('------- Done --------')"
   ]
  },
  {
   "cell_type": "markdown",
   "id": "a2ff188b",
   "metadata": {},
   "source": [
    "<!--  -->"
   ]
  },
  {
   "cell_type": "code",
   "execution_count": 7,
   "id": "ad34da31",
   "metadata": {},
   "outputs": [
    {
     "name": "stdout",
     "output_type": "stream",
     "text": [
      "1 Root\n",
      "2 Root\n",
      "2 Root\n",
      "3 User\n",
      "4 User\n",
      "5 User\n",
      "6 User\n",
      "Time taken: 142.0675983428955\n",
      "#Characters generated: 2299\n",
      "#Instructions failed: 0\n",
      "Results saved to: responses/individual-results/SENG402_postcondition-prediction_postcondition.txt\n",
      "Full responses saved to: responses/individual-results/SENG402_postcondition-prediction_full_postcondition_responses.txt\n",
      "------- Done --------\n"
     ]
    }
   ],
   "source": [
    "data_set_file_path = \"../datasets/postcondition-prediction.tsv\"\n",
    "run_evaluation(data_set_file_path)\n"
   ]
  }
 ],
 "metadata": {
  "kernelspec": {
   "display_name": ".venv",
   "language": "python",
   "name": "python3"
  },
  "language_info": {
   "codemirror_mode": {
    "name": "ipython",
    "version": 3
   },
   "file_extension": ".py",
   "mimetype": "text/x-python",
   "name": "python",
   "nbconvert_exporter": "python",
   "pygments_lexer": "ipython3",
   "version": "3.12.8"
  }
 },
 "nbformat": 4,
 "nbformat_minor": 5
}
