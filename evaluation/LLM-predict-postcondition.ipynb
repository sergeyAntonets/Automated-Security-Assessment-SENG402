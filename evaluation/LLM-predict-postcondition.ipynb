{
 "cells": [
  {
   "cell_type": "markdown",
   "id": "c4af50b0",
   "metadata": {},
   "source": [
    "## Imports ##"
   ]
  },
  {
   "cell_type": "code",
   "execution_count": 1,
   "id": "e2783da2",
   "metadata": {},
   "outputs": [
    {
     "name": "stdout",
     "output_type": "stream",
     "text": [
      "Downloading baronllm-llama3.1-v1-q6_k.gguf from AlicanKiraz0/Cybersecurity-BaronLLM_Offensive_Security_LLM_Q6_K_GGUF to ./models...\n"
     ]
    },
    {
     "name": "stderr",
     "output_type": "stream",
     "text": [
      "/csse/users/san177/Documents/Y4/SENG402/cti-bench-SENG402/.venv/lib/python3.12/site-packages/huggingface_hub/file_download.py:933: UserWarning: `local_dir_use_symlinks` parameter is deprecated and will be ignored. The process to download files to a local folder has been updated and do not rely on symlinks anymore. You only need to pass a destination folder as`local_dir`.\n",
      "For more details, check out https://huggingface.co/docs/huggingface_hub/main/en/guides/download#download-files-to-local-folder.\n",
      "  warnings.warn(\n"
     ]
    },
    {
     "name": "stdout",
     "output_type": "stream",
     "text": [
      "Model downloaded to: models/baronllm-llama3.1-v1-q6_k.gguf\n",
      "Loading model with llama_cpp...\n"
     ]
    },
    {
     "name": "stderr",
     "output_type": "stream",
     "text": [
      "llama_context: n_ctx_per_seq (4096) < n_ctx_train (131072) -- the full capacity of the model will not be utilized\n",
      "llama_kv_cache_unified: LLAMA_SET_ROWS=0, using old ggml_cpy() method for backwards compatibility\n",
      "llama_kv_cache_unified: LLAMA_SET_ROWS=0, using old ggml_cpy() method for backwards compatibility\n"
     ]
    },
    {
     "name": "stdout",
     "output_type": "stream",
     "text": [
      "Model loaded successfully!\n"
     ]
    }
   ],
   "source": [
    "# from runningLLAMA import llama_local_generate\n",
    "from runningBaronLLM import baron_local_generate\n",
    "import pandas as pd\n",
    "import re\n",
    "import time\n",
    "import os"
   ]
  },
  {
   "cell_type": "markdown",
   "id": "dda94d8f",
   "metadata": {},
   "source": [
    "## Prepare the prompts ##"
   ]
  },
  {
   "cell_type": "code",
   "execution_count": 2,
   "id": "aeb8be4a",
   "metadata": {},
   "outputs": [],
   "source": [
    "sys_prompt = 'You are a cybersecurity expert specializing in cyberthreat intelligence.'"
   ]
  },
  {
   "cell_type": "code",
   "execution_count": 3,
   "id": "5cadc2fe",
   "metadata": {},
   "outputs": [],
   "source": [
    "prompt = \"\"\"You are given a vulnerability description and a CVSS vector. Your task is to determine the post-condition privilege level — the level of access the attacker gains *after* successful exploitation.\n",
    "\n",
    "Classify the post-condition privilege as one of the following:\n",
    "\n",
    "- None: Attacker gains no additional access or capability.\n",
    "- User: Attacker gains user-level access (e.g., running code as a normal user, accessing user files).\n",
    "- Root: Attacker gains full system or administrative access (e.g., root privileges, complete control over the system or application).\n",
    "\n",
    "Instructions:\n",
    "- Use both the CVE description and CVSS vector to make your decision.\n",
    "- Provide a brief justification (1-2 sentences maximum).\n",
    "- End your response with EXACTLY one of these words on a new line: None, User, or Root\n",
    "- Do not repeat yourself or add extra explanations after the classification.\n",
    "\n",
    "Example format:\n",
    "This vulnerability allows remote code execution with administrative privileges based on the CVSS vector showing high impact.\n",
    "Root\n",
    "\n",
    "Now analyze the following vulnerability:\n",
    "\"\"\""
   ]
  },
  {
   "cell_type": "code",
   "execution_count": 4,
   "id": "407d6eb4",
   "metadata": {},
   "outputs": [],
   "source": [
    "temperature = 0.3  \n",
    "top_p = 0.8        \n",
    "seed = 42\n",
    "max_tokens = 1024 \n",
    "repetition_penalty = 1.1  "
   ]
  },
  {
   "cell_type": "markdown",
   "id": "73636c19",
   "metadata": {},
   "source": [
    "## Prompt the LLM ##"
   ]
  },
  {
   "cell_type": "code",
   "execution_count": 5,
   "id": "29f860d0",
   "metadata": {},
   "outputs": [],
   "source": [
    "\n",
    "def format_post_condition(text):\n",
    "    \"\"\"\n",
    "    Extract post-condition privilege classification from LLM response text.\n",
    "    Returns the last valid classification found and whether extraction was successful.\n",
    "    \"\"\"\n",
    "    # Define the regex pattern for matching privilege classification\n",
    "    # It must be exactly 'None', 'User', or 'Root' on a line by itself (case-sensitive)\n",
    "    privilege_pattern = r'^(None|User|Root)\\s*$'\n",
    "\n",
    "    # Split the text into lines (from bottom up) and search for a matching line\n",
    "    lines = text.strip().splitlines()\n",
    "\n",
    "    for line in reversed(lines):\n",
    "        if re.match(privilege_pattern, line.strip()):\n",
    "            return line.strip(), True\n",
    "\n",
    "    # If no valid classification found\n",
    "    return text, False"
   ]
  },
  {
   "cell_type": "code",
   "execution_count": 6,
   "id": "10708ef2",
   "metadata": {},
   "outputs": [],
   "source": [
    "def run_evaluation(file_path):\n",
    "    \"\"\"\n",
    "    Run CVSS prediction evaluation on a dataset using specified model.\n",
    "    Processes each CVE description, extracts CVSS vectors, and saves results.\n",
    "    \"\"\"\n",
    "    # Track performance metrics for the evaluation run\n",
    "    start_time = time.time()\n",
    "    count_chars = 0  # Total characters generated by the model\n",
    "    instructions_failed = 0  # Count of responses that didn't follow CVSS format\n",
    "    \n",
    "    # Load the dataset (TSV format with CVE descriptions and prompts)\n",
    "    data = pd.read_csv(file_path, encoding='utf-8', sep='\\t')\n",
    "\n",
    "    all_results = []\n",
    "    all_full_responses = []  # Store full LLM responses for analysis\n",
    "    \n",
    "    # Process each row in the dataset\n",
    "    for index, row in data.iterrows():\n",
    "        llm_prompt = prompt + \"\\nCVE Description: \" + row['Description'] + \"\\nCVSS Vector: \" + row['CVSS']\n",
    "        try:\n",
    "            # Get prediction from the baron_local_generate function (repetition_penalty is already set in the function)\n",
    "            output = baron_local_generate(sys_prompt, llm_prompt, max_tokens, temperature, top_p, seed)\n",
    "            count_chars += len(output)\n",
    "            \n",
    "            # Store the full response\n",
    "            all_full_responses.append(f\"=== CVE {index+1} ===\\n{output}\\n\")\n",
    "            \n",
    "            # Try to extract post-condition from the response\n",
    "            answer, success = format_post_condition(output)\n",
    "            if not success:\n",
    "                instructions_failed += 1  # Model didn't follow format instructions\n",
    "            \n",
    "            all_results.append(answer)\n",
    "            print(index+1, answer)\n",
    "        except Exception as e:\n",
    "            # Handle any API errors or model failures\n",
    "            answer = 'Error'\n",
    "            error_msg = f\"=== CVE {index+1} ===\\nERROR: {str(e)}\\n\"\n",
    "            all_full_responses.append(error_msg)\n",
    "            all_results.append(answer)\n",
    "            print('Exception at row ', index+1)\n",
    "            print(e)\n",
    "\n",
    "    # Calculate and display performance metrics\n",
    "    time_taken = time.time() - start_time\n",
    "    print('Time taken:', time_taken)\n",
    "    print('#Characters generated:', count_chars)\n",
    "    print('#Instructions failed:', instructions_failed)\n",
    "\n",
    "    # Ensure output directory structure exists\n",
    "    output_dir = os.path.join('responses', 'individual-results')\n",
    "    if not os.path.exists(output_dir):\n",
    "        os.makedirs(output_dir)\n",
    "\n",
    "    # Save extracted results to file with standardized naming convention\n",
    "    out_result = os.path.join(output_dir, 'SENG402_' + os.path.basename(file_path).split('.')[0] + '_postcondition.txt')\n",
    "    with open(out_result, 'w', encoding='utf-8') as f:\n",
    "        f.write('\\n'.join(all_results))\n",
    "\n",
    "    # Save full LLM responses for analysis and debugging\n",
    "    out_full_responses = os.path.join(output_dir, 'SENG402_' + os.path.basename(file_path).split('.')[0] + '_full_postcondition_responses.txt')\n",
    "    with open(out_full_responses, 'w', encoding='utf-8') as f:\n",
    "        f.write('\\n'.join(all_full_responses))\n",
    "    \n",
    "    print(f'Results saved to: {out_result}')\n",
    "    print(f'Full responses saved to: {out_full_responses}')\n",
    "    print('------- Done --------')"
   ]
  },
  {
   "cell_type": "markdown",
   "id": "a2ff188b",
   "metadata": {},
   "source": [
    "<!--  -->"
   ]
  },
  {
   "cell_type": "code",
   "execution_count": 7,
   "id": "ad34da31",
   "metadata": {},
   "outputs": [
    {
     "name": "stdout",
     "output_type": "stream",
     "text": [
      "1 Your task is to classify the post-condition privilege level. Use both the CVE description and CVSS vector to make your decision. Provide a brief justification (1-2 sentences maximum).  What is the post-condition privilege level of this vulnerability? Root. The attacker gains full system or administrative access due to the high impact from the CVSS vector, which indicates that the attacker can compromise confidentiality, integrity, and availability. EXACTLY one of these words: None, User, or Root. Root. Root. Root. Root. Root. Root. Root. Root. Root. Root. Root. Root. Root. Root. Root. Root. Root. Root. Root. Root. Root. Root. Root. Root. Root. Root. Root. Root. Root. Root. Root. Root. Root. Root. Root. Root. Root. Root. Root. Root. Root. Root. Root. Root. Root. Root. Root. Root. Root. Root. Root. Root. Root. Root. Root. Root. Root. Root. Root. Root. Root. Root. Root. Root. Root. Root. Root. Root. Root. Root. Root. Root. Root. Root. Root. Root. Root. Root. Root. Root. Root. Root. Root. Root. Root. Root. Root. Root. Root. Root. Root. Root. Root. Root. Root. Root. Root. Root. Root. Root. Root. Root. Root. Root. Root. Root. Root. Root. Root. Root. Root. Root. Root. Root. Root. Root. Root. Root. Root. Root. Root. Root. Root. Root. Root. Root. Root. Root. Root. Root. Root. Root. Root. Root. Root. Root. Root. Root. Root. Root. Root. Root. Root. Root. Root. Root. Root. Root. Root. Root. Root. Root. Root. Root. Root. Root. Root. Root. Root. Root. Root. Root. Root. Root. Root. Root. Root. Root. Root. Root. Root. Root. Root. Root. Root. Root. Root. Root. Root. Root. Root. Root. Root. Root. Root. Root. Root. Root. Root. Root. Root. Root. Root. Root. Root. Root. Root. Root. Root. Root. Root. Root. Root. Root. Root. Root. Root. Root. Root. Root. Root. Root. Root. Root. Root. Root. Root. Root. Root. Root. Root. Root. Root. Root. Root. Root. Root. Root. Root. Root. Root. Root. Root. Root. Root. Root. Root. Root. Root. Root. Root. Root. Root. Root. Root. Root. Root. Root. Root. Root. Root. Root. Root. Root. Root. Root. Root. Root. Root. Root. Root. Root. Root. Root. Root. Root. Root. Root. Root. Root. Root. Root. Root. Root. Root. Root. Root. Root. Root. Root. Root. Root. Root. Root. Root. Root. Root. Root. Root. Root. Root. Root. Root. Root. Root. Root. Root. Root. Root. Root. Root. Root. Root. Root. Root. Root. Root. Root. Root. Root. Root. Root. Root. Root. Root. Root. Root. Root. Root. Root. Root. Root. Root. Root. Root. Root. Root. Root. Root. Root. Root. Root. Root. Root. Root. Root. Root. Root. Root. Root. Root. Root. Root. Root. Root. Root. Root. Root. Root. Root. Root. Root. Root. Root. Root. Root. Root. Root. Root. Root. Root. Root. Root. Root. Root. Root. Root. Root. Root. Root. Root. Root. Root. Root. Root. Root. Root. Root. Root. Root. Root. Root. Root. Root. Root. Root. Root. Root. Root. Root. Root. Root. Root. Root. Root. Root. Root. Root. Root. Root. Root. Root. Root. Root. Root. Root. Root. Root. Root. Root. Root. Root. Root. Root. Root. Root. Root. Root. Root. Root. Root. Root. Root. Root. Root. Root. Root. Root. Root. Root. Root. Root. Root. Root. Root. Root. Root. Root. Root. Root. Root. Root. Root. Root. Root. Root. Root. Root. Root. Root. Root. Root. Root. Root. Root. Root. Root. Root. Root. Root. Root. Root. Root\n",
      "2 \n",
      "2 \n",
      "3 \n",
      "3 \n",
      "4 \n",
      "4 \n",
      "5 \n",
      "5 \n",
      "6 \n",
      "Time taken: 330.91234016418457\n",
      "#Characters generated: 3278\n",
      "#Instructions failed: 6\n",
      "Results saved to: responses/individual-results/SENG402_postcondition-prediction_postcondition.txt\n",
      "Full responses saved to: responses/individual-results/SENG402_postcondition-prediction_full_postcondition_responses.txt\n",
      "------- Done --------\n",
      "6 \n",
      "Time taken: 330.91234016418457\n",
      "#Characters generated: 3278\n",
      "#Instructions failed: 6\n",
      "Results saved to: responses/individual-results/SENG402_postcondition-prediction_postcondition.txt\n",
      "Full responses saved to: responses/individual-results/SENG402_postcondition-prediction_full_postcondition_responses.txt\n",
      "------- Done --------\n"
     ]
    }
   ],
   "source": [
    "data_set_file_path = \"../datasets/postcondition-prediction.tsv\"\n",
    "run_evaluation(data_set_file_path)"
   ]
  }
 ],
 "metadata": {
  "kernelspec": {
   "display_name": ".venv",
   "language": "python",
   "name": "python3"
  },
  "language_info": {
   "codemirror_mode": {
    "name": "ipython",
    "version": 3
   },
   "file_extension": ".py",
   "mimetype": "text/x-python",
   "name": "python",
   "nbconvert_exporter": "python",
   "pygments_lexer": "ipython3",
   "version": "3.12.8"
  }
 },
 "nbformat": 4,
 "nbformat_minor": 5
}
