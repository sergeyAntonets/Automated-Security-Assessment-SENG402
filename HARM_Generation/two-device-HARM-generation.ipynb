{
 "cells": [
  {
   "cell_type": "markdown",
   "id": "33d6f286",
   "metadata": {},
   "source": [
    "## Start with only two devices ##\n",
    "Using https://github.com/mmge88/automated-security-assessment/ as a base\n",
    "\n",
    "Device 1: Windows PC running __Windows 10 21H2__\n",
    "Device 2: Linux Server sunning __Linux 22.04__"
   ]
  },
  {
   "cell_type": "code",
   "execution_count": null,
   "id": "a2a597f7",
   "metadata": {},
   "outputs": [],
   "source": [
    "# CPE for PC device\n",
    "device1_CPE=\"cpe:2.3:o:microsoft:windows_10_21h2:-:*:*:*:*:*:arm64:*\"\n",
    "\n",
    "# CPE for server device\n",
    "device2_CPE=\"cpe:2.3:o:canonical:ubuntu_linux:22.04:*:*:*:lts:*:*:*\""
   ]
  }
 ],
 "metadata": {
  "language_info": {
   "name": "python"
  }
 },
 "nbformat": 4,
 "nbformat_minor": 5
}
